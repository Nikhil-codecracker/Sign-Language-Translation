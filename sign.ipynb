{
 "cells": [
  {
   "cell_type": "code",
   "execution_count": 79,
   "metadata": {},
   "outputs": [],
   "source": [
    "import numpy as np \n",
    "import matplotlib.pyplot as plt \n",
    "import cv2\n",
    "import os\n",
    "import mediapipe as mp\n",
    "from keras.preprocessing.text import Tokenizer\n",
    "from keras.preprocessing.sequence import pad_sequences\n",
    "from keras.models import Model\n",
    "from keras.layers import LSTM, Input, TimeDistributed, Dense, Activation, RepeatVector, Embedding\n",
    "from keras.applications.vgg16 import VGG16"
   ]
  },
  {
   "cell_type": "code",
   "execution_count": 72,
   "metadata": {},
   "outputs": [],
   "source": [
    "from tensorflow.keras.optimizers import Adam\n",
    "from keras.losses import sparse_categorical_crossentropy"
   ]
  },
  {
   "cell_type": "code",
   "execution_count": 73,
   "metadata": {},
   "outputs": [
    {
     "name": "stdout",
     "output_type": "stream",
     "text": [
      "{'name': 'test/25October_2010_Monday_tagesschau-17', 'signer': 'Signer01', 'gloss': 'REGEN SCHNEE REGION VERSCHWINDEN NORD REGEN KOENNEN REGION STERN KOENNEN SEHEN', 'text': 'regen und schnee lassen an den alpen in der nacht nach im norden und nordosten fallen hier und da schauer sonst ist das klar .'}\n"
     ]
    }
   ],
   "source": [
    "path = \".\\\\videos\"\n",
    "import pickle\n",
    "import gzip\n",
    "with gzip.open(\"phoenix14t.pami0.test.annotations_only.gzip\", 'rb') as f:\n",
    "    annotations = pickle.load(f)\n",
    "\n",
    "print(annotations[0])"
   ]
  },
  {
   "cell_type": "code",
   "execution_count": 74,
   "metadata": {},
   "outputs": [
    {
     "name": "stdout",
     "output_type": "stream",
     "text": [
      "(642,) (642,)\n"
     ]
    }
   ],
   "source": [
    "x_train = []\n",
    "y_train = []\n",
    "\n",
    "for annot in annotations:\n",
    "    temp = annot['name'].split('/')\n",
    "    annot['name'] = '\\\\'.join(temp)\n",
    "    dest = os.path.join(path,annot['name'] + '.mp4')\n",
    "    x_train.append(dest)\n",
    "    y_train.append(annot['text'])\n",
    "\n",
    "x_train = np.array(x_train)\n",
    "y_train = np.array(y_train)\n",
    "print(x_train.shape,y_train.shape)  "
   ]
  },
  {
   "cell_type": "code",
   "execution_count": 75,
   "metadata": {},
   "outputs": [
    {
     "name": "stdout",
     "output_type": "stream",
     "text": [
      ".\\videos\\test\\25October_2010_Monday_tagesschau-17.mp4\n"
     ]
    }
   ],
   "source": [
    "print(x_train[0])"
   ]
  },
  {
   "cell_type": "code",
   "execution_count": 5,
   "metadata": {},
   "outputs": [],
   "source": [
    "# mp_holistic = mp.solutions.holistic\n",
    "# mp_drawing = mp.solutions.drawing_utils"
   ]
  },
  {
   "cell_type": "code",
   "execution_count": 6,
   "metadata": {},
   "outputs": [],
   "source": [
    "# def mediapipe_detection(image,model):\n",
    "#     image = cv2.cvtColor(image,cv2.COLOR_BGR2RGB)\n",
    "#     image.flags.writeable = False\n",
    "#     results = model.process(image)\n",
    "#     image.flags.writeable = True\n",
    "#     image = cv2.cvtColor(image,cv2.COLOR_RGB2BGR)\n",
    "\n",
    "#     return image,results"
   ]
  },
  {
   "cell_type": "code",
   "execution_count": 7,
   "metadata": {},
   "outputs": [],
   "source": [
    "# def draw_landmarks(image,results):\n",
    "#     mp_drawing.draw_landmarks(image,results.face_landmarks,mp_holistic.FACEMESH_CONTOURS)\n",
    "#     mp_drawing.draw_landmarks(image,results.pose_landmarks,mp_holistic.POSE_CONNECTIONS)\n",
    "#     mp_drawing.draw_landmarks(image,results.left_hand_landmarks,mp_holistic.HAND_CONNECTIONS)\n",
    "#     mp_drawing.draw_landmarks(image,results.right_hand_landmarks,mp_holistic.HAND_CONNECTIONS)"
   ]
  },
  {
   "cell_type": "code",
   "execution_count": 8,
   "metadata": {},
   "outputs": [],
   "source": [
    "# def draw_styled_landmarks(image,results):\n",
    "#     mp_drawing.draw_landmarks(image,results.face_landmarks,mp_holistic.FACEMESH_CONTOURS,\n",
    "#                             mp_drawing.DrawingSpec(color = (80,110,10),thickness=1,circle_radius=1),\n",
    "#                             mp_drawing.DrawingSpec(color = (80,256,121),thickness=1,circle_radius=1),\n",
    "#                             )\n",
    "#     mp_drawing.draw_landmarks(image,results.pose_landmarks,mp_holistic.POSE_CONNECTIONS,\n",
    "#                             mp_drawing.DrawingSpec(color = (80,22,10),thickness=2,circle_radius=4),\n",
    "#                             mp_drawing.DrawingSpec(color = (80,44,121),thickness=2,circle_radius=2),\n",
    "#                             )\n",
    "#     mp_drawing.draw_landmarks(image,results.left_hand_landmarks,mp_holistic.HAND_CONNECTIONS,\n",
    "#                             mp_drawing.DrawingSpec(color = (121,22,76),thickness=2,circle_radius=4),\n",
    "#                             mp_drawing.DrawingSpec(color = (121,44,250),thickness=2,circle_radius=2),\n",
    "#                             )\n",
    "#     mp_drawing.draw_landmarks(image,results.right_hand_landmarks,mp_holistic.HAND_CONNECTIONS,\n",
    "#                             mp_drawing.DrawingSpec(color = (245,117,66),thickness=2,circle_radius=4),\n",
    "#                             mp_drawing.DrawingSpec(color = (245,66,230),thickness=2,circle_radius=2),\n",
    "#                             )"
   ]
  },
  {
   "cell_type": "code",
   "execution_count": 9,
   "metadata": {},
   "outputs": [],
   "source": [
    "# def extract_keypoints(results):\n",
    "#     pose = np.array([[res.x,res.y,res.z,res.visibility] for res in results.pose_landmarks.landmark]).flatten() if results.pose_landmarks else np.zeros(33*3)\n",
    "#     face = np.array([[res.x,res.y,res.z] for res in results.face_landmarks.landmark]).flatten() if results.face_landmarks else np.zeros(468*3)\n",
    "#     lh = np.array([[res.x,res.y,res.z] for res in results.left_hand_landmarks.landmark]).flatten() if results.left_hand_landmarks else np.zeros(21*3)\n",
    "#     rh = np.array([[res.x,res.y,res.z] for res in results.right_hand_landmarks.landmark]).flatten() if results.right_hand_landmarks else np.zeros(21*3)\n",
    "\n",
    "#     return np.concatenate([pose,face,lh,rh])"
   ]
  },
  {
   "cell_type": "code",
   "execution_count": 40,
   "metadata": {},
   "outputs": [
    {
     "name": "stdout",
     "output_type": "stream",
     "text": [
      "(40, 1662)\n",
      "(40, 1662)\n",
      "(40, 1662)\n",
      "(40, 1662)\n",
      "(40, 1662)\n",
      "(40, 1662)\n",
      "(40, 1662)\n",
      "(40, 1662)\n",
      "(40, 1662)\n",
      "(40, 1662)\n"
     ]
    }
   ],
   "source": [
    "# image_data = []\n",
    "# for i in range(10):\n",
    "\n",
    "#     video_data = []\n",
    "\n",
    "#     cap = cv2.VideoCapture(x_train[i])\n",
    "\n",
    "#     with mp_holistic.Holistic(min_detection_confidence=0.5,min_tracking_confidence=0.5) as holistic:\n",
    "#         while(True):\n",
    "#             ret,frame = cap.read()\n",
    "#             if(ret==False):\n",
    "#                 break\n",
    "            \n",
    "#             image,results = mediapipe_detection(frame,holistic)\n",
    "\n",
    "#             frame_data = extract_keypoints(results)\n",
    "#             video_data.append(frame_data)\n",
    "\n",
    "#             # draw_styled_landmarks(image,results)\n",
    "            \n",
    "#             # cv2.imshow('Video Feed',image)\n",
    "\n",
    "#             if cv2.waitKey(10) & 0xFF == ord('q'):\n",
    "#                 break\n",
    "\n",
    "#         cap.release()\n",
    "#         cv2.destroyAllWindows()\n",
    "\n",
    "    \n",
    "#     total = len(video_data)\n",
    "#     frames = 40\n",
    "#     interval = total/frames\n",
    "#     f_no = 0\n",
    "#     video_data = np.array(video_data)\n",
    "\n",
    "#     extarcted_frames = []\n",
    "#     for i in range(total):\n",
    "#         if(i==int(f_no*interval)):\n",
    "#             extarcted_frames.append(video_data[i])\n",
    "#             f_no += 1\n",
    "#     extracted_frames = np.array(extarcted_frames)\n",
    "\n",
    "#     print(extracted_frames.shape)\n",
    "    \n",
    "#     image_data.append(extracted_frames)"
   ]
  },
  {
   "cell_type": "code",
   "execution_count": 41,
   "metadata": {},
   "outputs": [],
   "source": [
    "# from gensim.models import word2vec\n",
    "\n",
    "# sentences = [\n",
    "#     'He is playing in the field.',\n",
    "#     'He is running towards the football.',\n",
    "#     'The football game ended.',\n",
    "#     'It started raining while everyone was playing in the field.'\n",
    "# ]\n",
    "\n",
    "# for i, sentence in enumerate(sentences):\n",
    "# \ttokenized= []\n",
    "# \tfor word in sentence.split(' '):\n",
    "# \t\tword = word.split('.')[0]\n",
    "# \t\tword = word.lower()\n",
    "# \t\ttokenized.append(word)\n",
    "# \tsentences[i] = tokenized\n",
    "\n",
    "# model = word2vec.Word2Vec(sentences, workers = 1, min_count = 1, window = 3, sg = 0)\n",
    "# similar_word = model.wv.most_similar('football')[0]\n",
    "# print(\"Most common word to football is: {}\".format(similar_word[0]))\n"
   ]
  },
  {
   "cell_type": "code",
   "execution_count": 83,
   "metadata": {},
   "outputs": [
    {
     "name": "stdout",
     "output_type": "stream",
     "text": [
      "(40, 224, 224, 3)\n",
      "(40, 224, 224, 3)\n"
     ]
    }
   ],
   "source": [
    "image_data = []\n",
    "size = 2\n",
    "for i in range(size):\n",
    "\n",
    "    video_data = []\n",
    "\n",
    "    cap = cv2.VideoCapture(x_train[i])\n",
    "\n",
    "    while(True):\n",
    "        ret,frame = cap.read()\n",
    "        if(ret==False):\n",
    "            break\n",
    "            \n",
    "        video_data.append(frame)\n",
    "\n",
    "            # draw_styled_landmarks(image,results)\n",
    "            \n",
    "            # cv2.imshow('Video Feed',image)\n",
    "\n",
    "        if cv2.waitKey(10) & 0xFF == ord('q'):\n",
    "            break\n",
    "\n",
    "    cap.release()\n",
    "    cv2.destroyAllWindows()\n",
    "\n",
    "    \n",
    "    total = len(video_data)\n",
    "    frames = 40\n",
    "    interval = total/frames\n",
    "    f_no = 0\n",
    "    video_data = np.array(video_data)\n",
    "\n",
    "    extracted_frames = []\n",
    "    for i in range(total):\n",
    "        if(i==int(f_no*interval)):\n",
    "            temp = cv2.resize(video_data[i],(224,224))\n",
    "            extracted_frames.append(temp)\n",
    "            f_no += 1\n",
    "    extracted_frames = np.array(extracted_frames)\n",
    "\n",
    "    print(extracted_frames.shape)\n",
    "    \n",
    "    image_data.append(extracted_frames)"
   ]
  },
  {
   "cell_type": "code",
   "execution_count": 84,
   "metadata": {},
   "outputs": [],
   "source": [
    "def model_cnn_load():\n",
    "    model = VGG16(weights=\"imagenet\", include_top=True, input_shape=(224, 224, 3))\n",
    "    out = model.layers[-2].output\n",
    "    model_final = Model(inputs=model.input, outputs=out)\n",
    "    return model_final"
   ]
  },
  {
   "cell_type": "code",
   "execution_count": 85,
   "metadata": {},
   "outputs": [
    {
     "name": "stdout",
     "output_type": "stream",
     "text": [
      "Downloading data from https://storage.googleapis.com/tensorflow/keras-applications/vgg16/vgg16_weights_tf_dim_ordering_tf_kernels.h5\n",
      "553467904/553467096 [==============================] - 230s 0us/step\n",
      "553476096/553467096 [==============================] - 230s 0us/step\n",
      "(40, 4096)\n",
      "(40, 4096)\n",
      "2\n"
     ]
    }
   ],
   "source": [
    "model = model_cnn_load()\n",
    "sign_language = []\n",
    "for i in range(len(image_data)):\n",
    "    features = model.predict(image_data[i],batch_size=128)\n",
    "    print(features.shape)\n",
    "    sign_language.append(features)\n",
    "print(len(sign_language))"
   ]
  },
  {
   "cell_type": "code",
   "execution_count": 88,
   "metadata": {},
   "outputs": [
    {
     "name": "stdout",
     "output_type": "stream",
     "text": [
      "(2, 40, 4096)\n"
     ]
    }
   ],
   "source": [
    "sign_lang = np.array(sign_language)\n",
    "print(sign_lang.shape)"
   ]
  },
  {
   "cell_type": "markdown",
   "metadata": {},
   "source": [
    "## Word Embedding"
   ]
  },
  {
   "cell_type": "code",
   "execution_count": 97,
   "metadata": {},
   "outputs": [
    {
     "name": "stdout",
     "output_type": "stream",
     "text": [
      "(642,)\n"
     ]
    }
   ],
   "source": [
    "print(y_train.shape)"
   ]
  },
  {
   "cell_type": "code",
   "execution_count": 98,
   "metadata": {},
   "outputs": [],
   "source": [
    "def tokenize(sentences):\n",
    "    # Create tokenizer\n",
    "    text_tokenizer = Tokenizer()\n",
    "    # Fit texts\n",
    "    text_tokenizer.fit_on_texts(sentences)\n",
    "    return text_tokenizer.texts_to_sequences(sentences), text_tokenizer"
   ]
  },
  {
   "cell_type": "code",
   "execution_count": 99,
   "metadata": {},
   "outputs": [],
   "source": [
    "for i in range(y_train.shape[0]):\n",
    "    y_train[i] = \"<bos>\" +  y_train[i] + \"<eos>\""
   ]
  },
  {
   "cell_type": "code",
   "execution_count": 100,
   "metadata": {},
   "outputs": [
    {
     "name": "stdout",
     "output_type": "stream",
     "text": [
      "Maximum length german sentence: 28\n",
      "german vocabulary is of 37 unique words\n"
     ]
    }
   ],
   "source": [
    "# Tokenize words\n",
    "ger_text_tokenized, ger_text_tokenizer = tokenize(y_train[:2])\n",
    "\n",
    "print('Maximum length german sentence: {}'.format(len(max(ger_text_tokenized,key=len))))\n",
    "\n",
    "# Check language length\n",
    "german_vocab = len(ger_text_tokenizer.word_index) + 1\n",
    "\n",
    "print(\"german vocabulary is of {} unique words\".format(german_vocab))"
   ]
  },
  {
   "cell_type": "code",
   "execution_count": 101,
   "metadata": {},
   "outputs": [],
   "source": [
    "max_sentence_length = len(max(ger_text_tokenized,key=len))\n",
    "ger_pad_sentence = pad_sequences(ger_text_tokenized, padding = \"post\", truncating='post')"
   ]
  },
  {
   "cell_type": "markdown",
   "metadata": {},
   "source": [
    "## Model"
   ]
  },
  {
   "cell_type": "code",
   "execution_count": 60,
   "metadata": {},
   "outputs": [],
   "source": [
    "inp_dim = sign_language.shape[0]*sign_language.shape[1]"
   ]
  },
  {
   "cell_type": "code",
   "execution_count": 66,
   "metadata": {},
   "outputs": [],
   "source": [
    "sign_language = sign_language.reshape(10,-1)"
   ]
  },
  {
   "cell_type": "code",
   "execution_count": 67,
   "metadata": {},
   "outputs": [
    {
     "name": "stdout",
     "output_type": "stream",
     "text": [
      "(10, 66480)\n"
     ]
    }
   ],
   "source": [
    "print(sign_language.shape)"
   ]
  },
  {
   "cell_type": "code",
   "execution_count": 68,
   "metadata": {},
   "outputs": [],
   "source": [
    "input_sequence = Input(shape=sign_language.shape[1])\n",
    "embedding = Embedding(input_dim=inp_dim, output_dim=128,)(input_sequence)\n",
    "encoder = LSTM(64, return_sequences=False)(embedding)\n",
    "r_vec = RepeatVector(max_sentence_length)(encoder)\n",
    "decoder = LSTM(64, return_sequences=True, dropout=0.2)(r_vec)\n",
    "logits = TimeDistributed(Dense(german_vocab))(decoder)"
   ]
  },
  {
   "cell_type": "code",
   "execution_count": 69,
   "metadata": {},
   "outputs": [
    {
     "name": "stdout",
     "output_type": "stream",
     "text": [
      "Model: \"model\"\n",
      "_________________________________________________________________\n",
      " Layer (type)                Output Shape              Param #   \n",
      "=================================================================\n",
      " input_3 (InputLayer)        [(None, 66480)]           0         \n",
      "                                                                 \n",
      " embedding_1 (Embedding)     (None, 66480, 128)        51200     \n",
      "                                                                 \n",
      " lstm_1 (LSTM)               (None, 64)                49408     \n",
      "                                                                 \n",
      " repeat_vector (RepeatVector  (None, 24, 64)           0         \n",
      " )                                                               \n",
      "                                                                 \n",
      " lstm_2 (LSTM)               (None, 24, 64)            33024     \n",
      "                                                                 \n",
      " time_distributed (TimeDistr  (None, 24, 105)          6825      \n",
      " ibuted)                                                         \n",
      "                                                                 \n",
      " activation (Activation)     (None, 24, 105)           0         \n",
      "                                                                 \n",
      "=================================================================\n",
      "Total params: 140,457\n",
      "Trainable params: 140,457\n",
      "Non-trainable params: 0\n",
      "_________________________________________________________________\n"
     ]
    }
   ],
   "source": [
    "enc_dec_model = Model(input_sequence, Activation('softmax')(logits))\n",
    "enc_dec_model.compile(loss=sparse_categorical_crossentropy,\n",
    "              optimizer=Adam(1e-3),\n",
    "              metrics=['accuracy'])\n",
    "enc_dec_model.summary()"
   ]
  },
  {
   "cell_type": "code",
   "execution_count": 59,
   "metadata": {},
   "outputs": [
    {
     "name": "stdout",
     "output_type": "stream",
     "text": [
      "105\n"
     ]
    }
   ],
   "source": [
    "def logits_to_sentence(logits, tokenizer):\n",
    "\n",
    "    index_to_words = {idx: word for word, idx in tokenizer.word_index.items()}\n",
    "    index_to_words[0] = '<empty>' \n",
    "\n",
    "    return ' '.join([index_to_words[prediction] for prediction in np.argmax(logits, 1)])\n",
    "\n",
    "index = 5\n",
    "\n",
    "print(\"The german sentence is: {}\".format(y_train[index]))\n",
    "print('The predicted sentence is :')\n",
    "print(logits_to_sentence(enc_dec_model.predict(sign_language[index])[0], ger_text_tokenizer))"
   ]
  },
  {
   "cell_type": "code",
   "execution_count": null,
   "metadata": {},
   "outputs": [],
   "source": []
  }
 ],
 "metadata": {
  "interpreter": {
   "hash": "0600588c3b5f4418cbe7b5ebc6825b479f3bc010269d8b60d75058cdd010adfe"
  },
  "kernelspec": {
   "display_name": "Python 3.7.5 64-bit",
   "language": "python",
   "name": "python3"
  },
  "language_info": {
   "codemirror_mode": {
    "name": "ipython",
    "version": 3
   },
   "file_extension": ".py",
   "mimetype": "text/x-python",
   "name": "python",
   "nbconvert_exporter": "python",
   "pygments_lexer": "ipython3",
   "version": "3.7.5"
  },
  "orig_nbformat": 4
 },
 "nbformat": 4,
 "nbformat_minor": 2
}
